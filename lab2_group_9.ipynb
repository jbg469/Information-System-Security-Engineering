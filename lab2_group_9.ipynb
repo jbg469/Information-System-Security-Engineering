{
  "cells": [
    {
      "cell_type": "markdown",
      "id": "9b071e8f",
      "metadata": {
        "id": "9b071e8f"
      },
      "source": [
        "# Lab2\n",
        "- Dhyey Shah - drs9930\n",
        "- John Guevara - jbg469\n",
        "- Billy O'Gare - weo206\n",
        "- Matthew Fauerbach - mf4096"
      ]
    },
    {
      "cell_type": "markdown",
      "id": "8a917f57",
      "metadata": {
        "id": "8a917f57"
      },
      "source": [
        "# Question 1\n",
        "## Cryptography\n",
        "The idea of cryptography is to be able to do secure communication between two parties even if there is an adversarial party in between who is eavesdropping on the conversation. Generally, the idea is to prevent other parties (including the public) from reading private messages.\n",
        "\n",
        "## Encryption\n",
        "Encryption is the process to encode information in a manner that ideally only allows the intended/authorized party to understand the information.\n",
        "\n",
        "## Plain Text\n",
        "This is the information that will be encrypted. It is the input into an encryption algorithm.\n",
        "\n",
        "## Cipher Text\n",
        "This is the output of an encyrption algorithm. This is the \"new\" information that is being transmitted and only the intended/authorized party can translate it back to plain text.\n",
        "\n",
        "## Decryption\n",
        "Decryption is the reverse process of encryption. The goal is to translate cipher text back to plain text. When done by the intended/authorized party, it will lead to data that would make sense.\n",
        "\n",
        "## Double Strength Encryption\n",
        "The idea is to do multiple layers of encryption. It works by first taking a plain text and encrypting it with an encryption algorithm to get a cipher text. That cipher text is encrypted using either the same algorithm or different algorithm. This process can be repeated as many times you like and the final produced cipher text is transmitted.\n",
        "\n",
        "## Hybrid Encryption\n",
        "The idea is to encrypt a symmetric key using a public asymmetric key. The goal is to combine the speed of a symmetric encryption scheme with the security/robustness of an asymmetric encryption key. By sending the encrypted symmetric  key with the encrypted data (which is encrypted using a symmetric encryption algorithm), the receiptant is the only one who should be able to decrypt the symmetric key and therefore, decrypt the data. This is used in the Conti Ransomware to encrypt files."
      ]
    },
    {
      "cell_type": "code",
      "execution_count": null,
      "id": "cc7ea4f2",
      "metadata": {
        "id": "cc7ea4f2"
      },
      "outputs": [],
      "source": [
        "import string\n",
        "\n",
        "charSet = string.ascii_uppercase\n",
        "\n",
        "def encryption(plaintext, key=3):\n",
        "    if not plaintext.isalpha():\n",
        "        raise ValueError(\"Plaintext contains non-alphabetic characters!\")\n",
        "    ciphertext = ''\n",
        "    for i in range(len(plaintext)):\n",
        "        ciphertext += charSet[(charSet.find(plaintext[i].upper()) + key) % 26]\n",
        "    return ciphertext\n",
        "\n",
        "def decryption(ciphertext, key=3):\n",
        "    if not ciphertext.isalpha():\n",
        "        raise ValueError(\"Ciphertext contains non-alphabetic characters!\")\n",
        "    plaintext = ''\n",
        "    for i in range(len(ciphertext)):\n",
        "        plaintext += charSet[(charSet.find(ciphertext[i].upper()) - key) % 26]\n",
        "    return plaintext"
      ]
    },
    {
      "cell_type": "code",
      "execution_count": null,
      "id": "a0b866a0",
      "metadata": {
        "id": "a0b866a0",
        "outputId": "0b27d663-9a96-41fd-f28a-70dfa5bb1b79"
      },
      "outputs": [
        {
          "name": "stdout",
          "output_type": "stream",
          "text": [
            "Things are printed as plaintext --> ciphertext --> plaintext\n",
            "\n",
            "USA --> XVD --> USA\n",
            "ISSEM --> LVVHP --> ISSEM\n",
            "CHICAGO --> FKLFDJR --> CHICAGO\n",
            "CAPPUCCINO --> FDSSXFFLQR --> CAPPUCCINO\n",
            "ZUPPA --> CXSSD --> ZUPPA\n",
            "XAVIERS --> ADYLHUV --> XAVIERS\n",
            "YELLOW --> BHOORZ --> YELLOW\n",
            "SECURITY --> VHFXULWB --> SECURITY\n",
            "CYBERHUB --> FBEHUKXE --> CYBERHUB\n",
            "HURRICANE --> KXUULFDQH --> HURRICANE\n"
          ]
        }
      ],
      "source": [
        "words = [\"USA\", \"ISSEM\", \"CHICAGO\", \"CAPPUCCINO\", \"ZUPPA\", \"XAVIERS\", \"YELLOW\", \"SECURITY\", \"CYBERHUB\", \"HURRICANE\"]\n",
        "print(\"Things are printed as plaintext --> ciphertext --> plaintext\\n\")\n",
        "for w in words:\n",
        "    c = encryption(w)\n",
        "    print(w, \"-->\", c, \"-->\", decryption(c))"
      ]
    },
    {
      "cell_type": "markdown",
      "id": "9e8f71fa",
      "metadata": {
        "id": "9e8f71fa"
      },
      "source": [
        "# Question 3\n",
        "## Part A - What is hash function in cryptography?\n",
        "In crpytography, a hash function is a mathematical algorithm that maps content to a unique identifier of a specifc length. The idea is that we can check to see if content of something has changed by checking to see if it leads to a new hash value."
      ]
    },
    {
      "cell_type": "code",
      "execution_count": null,
      "id": "959ef8e9",
      "metadata": {
        "id": "959ef8e9"
      },
      "outputs": [],
      "source": [
        "from hashlib import sha256\n",
        "\n",
        "hashDict = {}\n",
        "\n",
        "def hashing(message):\n",
        "    hash_ = sha256(message.encode('utf-8')).hexdigest()\n",
        "    if hash_ not in hashDict:\n",
        "        hashDict[hash_] = message\n",
        "    print(\"The hash of \\\"\",message,\"\\\" is\",hash_)\n",
        "    return hash_\n",
        "\n",
        "def hashVerification(message):\n",
        "    computedHash = sha256(message.encode('utf-8')).hexdigest()\n",
        "    if computedHash in hashDict:\n",
        "        if hashDict[computedHash] == message:\n",
        "            print(\"Message verified and it has not been corrupted!\")\n",
        "        else:\n",
        "            print(\"Collision found!\")\n",
        "    else:\n",
        "        print(\"Message has been corrupted!\")"
      ]
    },
    {
      "cell_type": "code",
      "execution_count": null,
      "id": "22bd89c2",
      "metadata": {
        "id": "22bd89c2",
        "outputId": "a3185658-2040-4495-e9e5-d9ebdebfb27d"
      },
      "outputs": [
        {
          "name": "stdout",
          "output_type": "stream",
          "text": [
            "The hash of \" Information Systems Security Engineering and Management \" is ea2b9ab09f3ab6aefb8dbd8d93a511a22f7f8616872d78d1b8f81550b932e063\n",
            "Message verified and it has not been corrupted!\n",
            "Message has been corrupted!\n"
          ]
        }
      ],
      "source": [
        "Message = \"Information Systems Security Engineering and Management\"\n",
        "_ = hashing(Message)\n",
        "hashVerification(Message)\n",
        "hashVerification(Message[:-5])"
      ]
    }
  ],
  "metadata": {
    "kernelspec": {
      "display_name": "Python 3 (ipykernel)",
      "language": "python",
      "name": "python3"
    },
    "language_info": {
      "codemirror_mode": {
        "name": "ipython",
        "version": 3
      },
      "file_extension": ".py",
      "mimetype": "text/x-python",
      "name": "python",
      "nbconvert_exporter": "python",
      "pygments_lexer": "ipython3",
      "version": "3.9.12"
    },
    "colab": {
      "provenance": []
    }
  },
  "nbformat": 4,
  "nbformat_minor": 5
}