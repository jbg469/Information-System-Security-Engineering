{
  "nbformat": 4,
  "nbformat_minor": 0,
  "metadata": {
    "colab": {
      "provenance": [],
      "collapsed_sections": []
    },
    "kernelspec": {
      "name": "python3",
      "display_name": "Python 3"
    },
    "language_info": {
      "name": "python"
    }
  },
  "cells": [
    {
      "cell_type": "markdown",
      "source": [
        "Summarize the Infant Incubator Simulator in no more than 500 words: \n",
        "\n",
        "The infant incubator simulator is a product that allows us to see how we can think of a product in terms of cybersecurity. It is an ideal simulator to build as it will show us the cost of making tradeoffs while\n",
        "mitigating for adversaries and planning for upgrades. It is an ideal device to study because it is a medical device that must abide to laws and regulations, it is a physical device but can be designed to run via networks,\n",
        "and it can operate as a standalone device if there is no network availability. \n",
        " \n",
        "An infant incubator must be secure as it will have a living being in it.  The simulator is modeled with 5 to 6 faces of the incubator exposed the room and designed to hold a child in the \n",
        "middle of the incubator. The calculations follow our known laws of physics and thermodynamics. Assumptions are made to easily calculate temperature of an object given its energy content and specific heat.\n",
        "With some added constants which are mathematical facts about physical objects we can calculate energy difference between the infant and the chamber, or the latent heat. \n",
        " \n",
        " The incubator is equipped with tools to help it conduct a myriad of calculations \n",
        "or simulations such as calculating temperature differentials, heat transfer, or updating the energy content / temperature of the incubator and infant. To simulate this as a computer program \n",
        "multithreading is used to run different calculations in different threads. The simulator starts with three special conditions in mind temperature change is proportional when the chamber is open, when an infant is placed in the incubator\n",
        "the mass of the air is reduced while recording the temperature to update the energy content, finally when an infant is removed its simply replaced by the same volume of air as the baby. \n"
      ],
      "metadata": {
        "id": "n2lxTC-HWaE0"
      }
    },
    {
      "cell_type": "code",
      "source": [
        "Identify and list all the libraries being used in the project and explain in a sentence or two, what the parameters are.\n",
        "\n",
        "import math #for sqrt\n",
        "#This library provides accesss to mathematical functions. Such functions include power of x, square root, logs. \n",
        "import time #for sleep\n",
        "#Time allows functions that are time dependent. A very common use of the time library is the sleep() function which can momentaraly suspend a program.\n",
        "import threading #Thread\n",
        "#The threading library is used to handle multithreaded operations. We will be able to initiate new thread instances and manipulate them to our specifications. \n",
        "import matplotlib.pyplot as plt\n",
        "#This library allows for plotting. In this specific porgram it could be useful for displaying energy and temperature change data. \n",
        "import matplotlib.animation as animation\n",
        "#This specific function from matplolib helps us call Funcanimation which priduces and animation that results from calling a function over and over again.\n",
        "import infinc\n",
        "# A reference to the infin.py file of our simulator.\n",
        "import socket\n",
        "#The socket library helps us work with low level networking interfaces. We can simplify writing server and client scenarios by importing this library.\n",
        "import fcntl\n",
        "#This library helps us handle I/O and read/writing of files in our project.\n",
        "import os\n",
        "#We can perform operating system dependant functionalitis with this library. For example opening a file. \n",
        "import errno\n",
        "#This library simplifies error handling.\n",
        "import random\n",
        "#This library helps us generate random numbers however it is not cryptographically safe. Use import secrets for verfiably random nuber generation.\n",
        "import string\n",
        "#This library contanins various tools for manupalitng characters and strings. \n"
      ],
      "metadata": {
        "id": "V4CYWeH8JWq5"
      },
      "execution_count": null,
      "outputs": []
    }
  ]
}